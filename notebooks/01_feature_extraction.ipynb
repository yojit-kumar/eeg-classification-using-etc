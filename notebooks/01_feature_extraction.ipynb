{
 "cells": [
  {
   "cell_type": "code",
   "execution_count": null,
   "id": "83ced95a-ec9c-44ff-a4ff-59b19682a81c",
   "metadata": {},
   "outputs": [],
   "source": [
    "import sys\n",
    "sys.path.append(\"../src\")\n",
    "\n",
    "from preprocessing import *\n",
    "from feature_extraction import *\n",
    "\n",
    "import pandas as pd\n",
    "import numpy as np\n",
    "import logging"
   ]
  },
  {
   "cell_type": "code",
   "execution_count": null,
   "id": "b3f0f27a-69d6-434e-929a-8ccb2259a7d6",
   "metadata": {},
   "outputs": [],
   "source": [
    "volunteer_ids = [f\"S{n:03d}\" for n in range(1,110)]\n",
    "channel_ids = ['FC5', 'FC3', 'FC1', 'FCz', 'FC2', 'FC4', 'FC6', 'C5', \n",
    "               'C3', 'C1', 'Cz', 'C2', 'C4', 'C6', 'CP5', 'CP3', 'CP1', \n",
    "               'CPz', 'CP2', 'CP4', 'CP6', 'Fp1', 'Fpz', 'Fp2', 'AF7', \n",
    "               'AF3', 'AFz', 'AF4', 'AF8', 'F7', 'F5', 'F3', 'F1', 'Fz', \n",
    "               'F2', 'F4', 'F6', 'F8', 'FT7', 'FT8', 'T7', 'T8', 'T9', \n",
    "               'T10', 'TP7', 'TP8', 'P7', 'P5', 'P3', 'P1', 'Pz', 'P2', \n",
    "               'P4', 'P6', 'P8', 'PO7', 'PO3', 'POz', 'PO4', 'PO8', 'O1', \n",
    "               'Oz', 'O2', 'Iz']\n",
    "occipital_channels = ['PO7', 'PO3', 'POz', 'PO4', 'PO8', 'O1', 'Oz', 'O2']\n",
    "root_dir = '../data/files/'\n",
    "result_dir = '../results/tmp/'"
   ]
  },
  {
   "cell_type": "markdown",
   "id": "699ef388-00e8-4018-9ca3-6d546e10c59b",
   "metadata": {},
   "source": [
    "\n",
    "CASE OF UNFILTERED DATA"
   ]
  },
  {
   "cell_type": "code",
   "execution_count": null,
   "id": "09229b7f-f931-4243-b802-631b655998f1",
   "metadata": {},
   "outputs": [],
   "source": [
    "results = []\n",
    "for v in volunteer_ids:  \n",
    "    r1, r2 = extract_data(v, root_dir)\n",
    "    \n",
    "    labels = r1.ch_names\n",
    "    label_idx = {label: idx for idx, label in enumerate(labels)}\n",
    " \n",
    "    r1_data = r1.get_data()\n",
    "    r2_data = r2.get_data()\n",
    "\n",
    "    for ch in channel_ids:\n",
    "        idx = label_idx[ch]\n",
    "        signal1 = r1_data[idx,:]\n",
    "        signal2 = r2_data[idx,:]\n",
    "        \n",
    "        etc_1 = etc_func(signal1)\n",
    "        etc_2 = etc_func(signal2)\n",
    "\n",
    "        results.append({\n",
    "            'volunteer': v,\n",
    "            'channel': ch,\n",
    "            'ETC_EyesOpen': etc_1,\n",
    "            'ETC_EyesClosed': etc_2,\n",
    "            })\n",
    "data_unfiltered = pd.DataFrame(results)\n",
    "%store data_unfiltered"
   ]
  },
  {
   "cell_type": "markdown",
   "id": "558d7af6-dc2c-4938-b41b-3b87a2e2c71f",
   "metadata": {},
   "source": [
    "\n",
    "CASE OF FILTERED DATA"
   ]
  },
  {
   "cell_type": "markdown",
   "id": "5b5ea39e-722d-4c1d-9383-f8a7aa738f5f",
   "metadata": {},
   "source": [
    "\n",
    "ETC W/O ORDINAL ANALYSIS"
   ]
  },
  {
   "cell_type": "code",
   "execution_count": null,
   "id": "99cf5ce7-6a25-4121-9770-5aef094c42f9",
   "metadata": {},
   "outputs": [],
   "source": [
    "results = []\n",
    "for v in volunteer_ids:   \n",
    "    r1, r2 = extract_data(v, root_dir)\n",
    "    r1, r2 = filter_data(r1, r2)\n",
    "\n",
    "    labels = r1.ch_names\n",
    "    label_idx = {label: idx for idx, label in enumerate(labels)}\n",
    "\n",
    "    r1_data = r1.get_data()\n",
    "    r2_data = r2.get_data()\n",
    "\n",
    "    for ch in channel_ids:\n",
    "        idx = label_idx[ch]\n",
    "        signal1 = r1_data[idx,:]\n",
    "        signal2 = r2_data[idx,:]\n",
    "        \n",
    "        etc_1 = etc_func(signal1)\n",
    "        etc_2 = etc_func(signal2)\n",
    "\n",
    "        results.append({\n",
    "            'volunteer': v,\n",
    "            'channel': ch,\n",
    "            'ETC_EyesOpen': etc_1,\n",
    "            'ETC_EyesClosed': etc_2,\n",
    "            })\n",
    "data_filtered = pd.DataFrame(results)\n",
    "%store data_filtered"
   ]
  },
  {
   "cell_type": "markdown",
   "id": "b668424b-7bc9-4a4d-854e-e3146d6f75c8",
   "metadata": {},
   "source": [
    "\n",
    "ETC WITH ORDINAL ANALYSIS"
   ]
  },
  {
   "cell_type": "code",
   "execution_count": null,
   "id": "96eb3c65-9f80-4042-a339-d3c06299dedc",
   "metadata": {},
   "outputs": [],
   "source": [
    "results = []\n",
    "logger.info(f\"Processing {len(volunteer_ids)} volunteers with {len(channel_ids)} channels each\")\n",
    "    \n",
    "for i, v in enumerate(volunteer_ids, 1):\n",
    "    logger.info(f\"Processing {v} ({i}/{len(volunteer_ids)})\")\n",
    "    \n",
    "    r1, r2 = extract_data(v, root_dir)\n",
    "    r1, r2 = filter_data(r1, r2)\n",
    "    r1_data = r1.get_data()\n",
    "    r2_data = r2.get_data()\n",
    "\n",
    "    channel_idx_map = {name: idx for idx, name in enumerate(channel_names)}\n",
    "\n",
    "    for ch in channel_ids:   \n",
    "        try:\n",
    "            idx = channel_idx_map[ch]\n",
    "            signal1 = data1[idx, :]\n",
    "            signal2 = data2[idx, :]\n",
    "            \n",
    "            \n",
    "            pattern_to_symbol, n = permute_patterns(TIME_WINDOW)\n",
    "            \n",
    "            # Compute ordinal patterns\n",
    "            symbols1 = ordinal_patterns(pattern_to_symbol, signal1, TIME_WINDOW)\n",
    "            symbols2 = ordinal_patterns(pattern_to_symbol, signal2, TIME_WINDOW)\n",
    "            \n",
    "            # Compute ETC\n",
    "            etc1 = compute_etc(symbols1, bins=n)\n",
    "            etc2 = compute_etc(symbols2, bins=n)\n",
    "            \n",
    "            results.append({\n",
    "                'volunteer': volunteer_id,\n",
    "                'channel': channel,\n",
    "                'ETC_EyesOpen': etc1,\n",
    "                'ETC_EyesClosed': etc2,\n",
    "            })\n",
    "            \n",
    "        except Exception as e:\n",
    "            logger.error(f\"Error processing channel {channel} for {volunteer_id}: {e}\")\n",
    "            continue\n",
    "        # Progress update\n",
    "        if i % 10 == 0:\n",
    "            logger.info(f\"Completed {i}/{len(volunteer_ids)} volunteers\")\n",
    "    \n",
    "    logger.info(f\"Processing complete. Total results: {len(results)}\")\n",
    "\n",
    "data_filtered_ordinal = pd.DataFrame(results)\n",
    "%store data_filtered_ordinal"
   ]
  }
 ],
 "metadata": {
  "kernelspec": {
   "display_name": "Python 3 (ipykernel)",
   "language": "python",
   "name": "python3"
  },
  "language_info": {
   "codemirror_mode": {
    "name": "ipython",
    "version": 3
   },
   "file_extension": ".py",
   "mimetype": "text/x-python",
   "name": "python",
   "nbconvert_exporter": "python",
   "pygments_lexer": "ipython3",
   "version": "3.13.2"
  }
 },
 "nbformat": 4,
 "nbformat_minor": 5
}
