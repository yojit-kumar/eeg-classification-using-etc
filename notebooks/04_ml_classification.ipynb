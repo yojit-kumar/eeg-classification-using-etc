{
 "cells": [
  {
   "cell_type": "code",
   "execution_count": 1,
   "id": "bdb9f44b-c943-4216-aed7-a2abaa710278",
   "metadata": {},
   "outputs": [],
   "source": [
    "import os\n",
    "import sys\n",
    "sys.path.append(\"../src\")\n",
    "import numpy as np\n",
    "\n",
    "from sklearn.model_selection import train_test_split, KFold\n",
    "from sklearn.metrics import accuracy_score, f1_score, precision_score, recall_score\n"
   ]
  },
  {
   "cell_type": "markdown",
   "id": "fde9f1e4-7da6-4347-baa9-63306b76619f",
   "metadata": {},
   "source": [
    "\n",
    "DATA SPLITTING\n",
    "\n",
    "Choose from data_filtered or data_filtered_ordinal depending on the method you want to test."
   ]
  },
  {
   "cell_type": "code",
   "execution_count": 2,
   "id": "262f4741-1922-4a32-82bb-cc067e8f2969",
   "metadata": {},
   "outputs": [],
   "source": [
    "from ml_models import data_split\n",
    "\n",
    "#%store -r data_filtered\n",
    "#dataframe = data_filtered\n",
    "\n",
    "%store -r data_filtered_ordinal\n",
    "dataframe = data_filtered_ordinal"
   ]
  },
  {
   "cell_type": "code",
   "execution_count": 3,
   "id": "5b15b9a4-99ea-40bc-99ec-7a6aa8e993d1",
   "metadata": {},
   "outputs": [],
   "source": [
    "X_train, y_train, X_test, y_test = data_split(dataframe)"
   ]
  },
  {
   "cell_type": "markdown",
   "id": "4093b9ab-12e1-4f94-aeca-8c9448c5205e",
   "metadata": {},
   "source": [
    "\n",
    "ADAPTIVE BOOSTING"
   ]
  },
  {
   "cell_type": "code",
   "execution_count": 4,
   "id": "a04790bd-b32e-4bbc-ad0e-0da2db9d5799",
   "metadata": {},
   "outputs": [],
   "source": [
    "from sklearn.ensemble import AdaBoostClassifier\n",
    "from ml_models import adaboost_train, adaboost_test"
   ]
  },
  {
   "cell_type": "code",
   "execution_count": 5,
   "id": "1bbd52e3-2481-4057-be0d-c9084badf3aa",
   "metadata": {},
   "outputs": [
    {
     "name": "stdout",
     "output_type": "stream",
     "text": [
      "Creation of result dir not required\n",
      "Training Finished!\n"
     ]
    }
   ],
   "source": [
    "adaboost_train(X_train, y_train)"
   ]
  },
  {
   "cell_type": "code",
   "execution_count": 6,
   "id": "bc2d41aa-6355-4b2e-8b84-5f23995fe84d",
   "metadata": {},
   "outputs": [
    {
     "name": "stdout",
     "output_type": "stream",
     "text": [
      "TRAINING F1 Score 0.8015199199946121\n",
      "ACCURACY 0.8409090909090909\n",
      "TESTING F1 Score 0.8408268733850129\n",
      "PRECISION 0.86\n",
      "RECALL 0.8653846153846154\n"
     ]
    }
   ],
   "source": [
    "adaboost_test(X_train, y_train, X_test, y_test)"
   ]
  },
  {
   "cell_type": "markdown",
   "id": "65af466d-d6d5-430d-9a1a-6e5420ac2709",
   "metadata": {},
   "source": [
    "\n",
    "DECISION TREE"
   ]
  },
  {
   "cell_type": "code",
   "execution_count": 7,
   "id": "c6df341e-98a5-4198-a12e-5e094a2b9369",
   "metadata": {},
   "outputs": [],
   "source": [
    "from sklearn.tree import DecisionTreeClassifier\n",
    "from ml_models import decisiontree_train, decisiontree_test"
   ]
  },
  {
   "cell_type": "code",
   "execution_count": 8,
   "id": "6a4e208b-5596-4fbe-9bde-13156a660bd3",
   "metadata": {},
   "outputs": [
    {
     "name": "stdout",
     "output_type": "stream",
     "text": [
      "Creation of result dir not required\n",
      "Training Finished!\n"
     ]
    }
   ],
   "source": [
    "decisiontree_train(X_train, y_train)"
   ]
  },
  {
   "cell_type": "code",
   "execution_count": 9,
   "id": "4ca60acb-1a60-4f2d-bcde-3b9a914ac337",
   "metadata": {},
   "outputs": [
    {
     "name": "stdout",
     "output_type": "stream",
     "text": [
      "TRAINING F1 Score 0.7822877012353954\n",
      "ACCURACY 0.8636363636363636\n",
      "TESTING F1 Score 0.8610526315789473\n",
      "PRECISION 0.8583333333333334\n",
      "RECALL 0.8675213675213675\n"
     ]
    }
   ],
   "source": [
    "decisiontree_test(X_train, y_train, X_test, y_test)"
   ]
  },
  {
   "cell_type": "markdown",
   "id": "dedd70f3-b2cc-4298-889d-7a8903248720",
   "metadata": {},
   "source": [
    "\n",
    "GAUSSIAN NAIVE BAYES"
   ]
  },
  {
   "cell_type": "code",
   "execution_count": 10,
   "id": "66d599f7-1456-46b6-bef1-263af7579096",
   "metadata": {},
   "outputs": [],
   "source": [
    "from sklearn.naive_bayes import GaussianNB\n",
    "from ml_models import gaussiannb"
   ]
  },
  {
   "cell_type": "code",
   "execution_count": 11,
   "id": "7f1b6378-9789-4970-a3a8-e14719a8ae04",
   "metadata": {},
   "outputs": [
    {
     "name": "stdout",
     "output_type": "stream",
     "text": [
      "ACCURACY 0.7126436781609196\n",
      "TESTING F1 Score 0.7095352564102564\n",
      "PRECISION 0.7333803810868031\n",
      "RECALL 0.7189196345822852\n",
      "Creation of result dir not required\n"
     ]
    }
   ],
   "source": [
    "gaussiannb(X_train, y_train, X_test, y_test)"
   ]
  },
  {
   "cell_type": "markdown",
   "id": "be01a152-4208-4ca2-8998-b1ac817581cf",
   "metadata": {},
   "source": [
    "\n",
    "K-NEAREST NEIGHBORS"
   ]
  },
  {
   "cell_type": "code",
   "execution_count": 12,
   "id": "684be9e9-4078-462d-bd41-1ae735489710",
   "metadata": {},
   "outputs": [],
   "source": [
    "from sklearn.neighbors import KNeighborsClassifier\n",
    "from ml_models import knn_train, knn_test"
   ]
  },
  {
   "cell_type": "code",
   "execution_count": 13,
   "id": "0b9485da-8a00-4f65-baae-606999ebe7ba",
   "metadata": {},
   "outputs": [
    {
     "name": "stdout",
     "output_type": "stream",
     "text": [
      "Creation of result dir not required\n",
      "Training Finished !\n"
     ]
    }
   ],
   "source": [
    "knn_train(X_train, y_train)"
   ]
  },
  {
   "cell_type": "code",
   "execution_count": 14,
   "id": "d3b4fd08-21a2-4cc7-b567-7a7adf77e1c8",
   "metadata": {},
   "outputs": [
    {
     "name": "stdout",
     "output_type": "stream",
     "text": [
      "TRAINING F1 Score 0.7879767564451055\n",
      "ACCURACY 0.7954545454545454\n",
      "TESTING F1 Score 0.7953488372093023\n",
      "PRECISION 0.8333333333333333\n",
      "RECALL 0.8269230769230769\n"
     ]
    }
   ],
   "source": [
    "knn_test(X_train, y_train, X_test, y_test)"
   ]
  },
  {
   "cell_type": "markdown",
   "id": "ed1da9d0-f3b1-4d8a-949b-75b320d2671e",
   "metadata": {},
   "source": [
    "\n",
    "LOGISTIC REGRESSION"
   ]
  },
  {
   "cell_type": "code",
   "execution_count": 15,
   "id": "6cc4aa2b-fed7-4d02-b406-f60ad4ebd849",
   "metadata": {},
   "outputs": [],
   "source": [
    "from sklearn.linear_model import LogisticRegression \n",
    "from ml_models import logisticr_train, logisticr_test"
   ]
  },
  {
   "cell_type": "code",
   "execution_count": 16,
   "id": "985a56b6-b2e0-46a8-b5be-dc4464f33ed4",
   "metadata": {},
   "outputs": [
    {
     "name": "stdout",
     "output_type": "stream",
     "text": [
      "Creation of result dir not required\n",
      "Training Finished !\n"
     ]
    }
   ],
   "source": [
    "logisticr_train(X_train, y_train)"
   ]
  },
  {
   "cell_type": "code",
   "execution_count": 17,
   "id": "6dd9ccdb-15fb-4b5f-82a1-db46dc3a017f",
   "metadata": {},
   "outputs": [
    {
     "name": "stdout",
     "output_type": "stream",
     "text": [
      "TRAINING F1 Score 0.8116431293376264\n",
      "ACCURACY 0.8863636363636364\n",
      "TESTING F1 Score 0.8858329008822003\n",
      "PRECISION 0.8913043478260869\n",
      "RECALL 0.9038461538461539\n"
     ]
    }
   ],
   "source": [
    "logisticr_test(X_train, y_train, X_test, y_test)"
   ]
  },
  {
   "cell_type": "markdown",
   "id": "6304817a-0065-41e3-85c2-8cc375c23a93",
   "metadata": {},
   "source": [
    "\n",
    "RANDOM FOREST"
   ]
  },
  {
   "cell_type": "code",
   "execution_count": 18,
   "id": "dfbccd9f-0b53-480b-8a3f-5b3913da0d75",
   "metadata": {},
   "outputs": [],
   "source": [
    "from sklearn.ensemble import RandomForestClassifier\n",
    "from ml_models import randomforest_train, randomforest_test"
   ]
  },
  {
   "cell_type": "code",
   "execution_count": 19,
   "id": "c628ed8d-db06-481d-a9ac-043b62fb4734",
   "metadata": {},
   "outputs": [
    {
     "name": "stdout",
     "output_type": "stream",
     "text": [
      "Creation of result dir not required\n",
      "Training Finished!\n"
     ]
    }
   ],
   "source": [
    "randomforest_train(X_train, y_train)"
   ]
  },
  {
   "cell_type": "code",
   "execution_count": 20,
   "id": "0b4bd19e-d8af-4521-99d3-317ecd9f43ec",
   "metadata": {},
   "outputs": [
    {
     "name": "stdout",
     "output_type": "stream",
     "text": [
      "TRAINING F1 Score 0.8534816589943632\n",
      "ACCURACY 0.8181818181818182\n",
      "TESTING F1 Score 0.8181818181818182\n",
      "PRECISION 0.8461538461538461\n",
      "RECALL 0.8461538461538461\n"
     ]
    }
   ],
   "source": [
    "randomforest_test(X_train, y_train, X_test, y_test)"
   ]
  },
  {
   "cell_type": "markdown",
   "id": "a8a0feb5-ffac-4df1-92b9-4c15e7491803",
   "metadata": {},
   "source": [
    "\n",
    "SIMPLE VECTOR MACHINE"
   ]
  },
  {
   "cell_type": "code",
   "execution_count": 21,
   "id": "1c78fae0-2eb2-4d80-9e86-932364d31281",
   "metadata": {},
   "outputs": [],
   "source": [
    "from sklearn.svm import SVC\n",
    "from ml_models import svm_train, svm_test"
   ]
  },
  {
   "cell_type": "code",
   "execution_count": 22,
   "id": "f12270e3-41c7-4622-84dd-15b31621c4ca",
   "metadata": {},
   "outputs": [
    {
     "name": "stdout",
     "output_type": "stream",
     "text": [
      "Creation of result dir not required\n",
      "Training Finished !\n"
     ]
    }
   ],
   "source": [
    "svm_train(X_train, y_train)"
   ]
  },
  {
   "cell_type": "code",
   "execution_count": 23,
   "id": "dec5177f-a28d-41e1-b4cd-96cde10ff8c4",
   "metadata": {},
   "outputs": [
    {
     "name": "stdout",
     "output_type": "stream",
     "text": [
      "TRAINING F1 Score 0.8148736215375079\n",
      "ACCURACY 0.8863636363636364\n",
      "TESTING F1 Score 0.8858329008822003\n",
      "PRECISION 0.8913043478260869\n",
      "RECALL 0.9038461538461539\n"
     ]
    }
   ],
   "source": [
    "svm_test(X_train, y_train, X_test, y_test)"
   ]
  },
  {
   "cell_type": "code",
   "execution_count": null,
   "id": "05c9ea6c-1da6-4642-b8ba-44daa32f6739",
   "metadata": {},
   "outputs": [],
   "source": []
  }
 ],
 "metadata": {
  "kernelspec": {
   "display_name": "Python 3 (ipykernel)",
   "language": "python",
   "name": "python3"
  },
  "language_info": {
   "codemirror_mode": {
    "name": "ipython",
    "version": 3
   },
   "file_extension": ".py",
   "mimetype": "text/x-python",
   "name": "python",
   "nbconvert_exporter": "python",
   "pygments_lexer": "ipython3",
   "version": "3.13.2"
  }
 },
 "nbformat": 4,
 "nbformat_minor": 5
}
