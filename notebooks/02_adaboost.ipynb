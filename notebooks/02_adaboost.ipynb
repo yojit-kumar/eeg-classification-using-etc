{
 "cells": [
  {
   "cell_type": "code",
   "execution_count": 1,
   "id": "bdb9f44b-c943-4216-aed7-a2abaa710278",
   "metadata": {},
   "outputs": [],
   "source": [
    "import os\n",
    "import sys\n",
    "sys.path.append(\"../src\")\n",
    "import numpy as np\n",
    "\n",
    "from sklearn.model_selection import train_test_split, KFold\n",
    "from sklearn.metrics import accuracy_score, f1_score, precision_score, recall_score\n"
   ]
  },
  {
   "cell_type": "markdown",
   "id": "fde9f1e4-7da6-4347-baa9-63306b76619f",
   "metadata": {},
   "source": [
    "DATA SPLITTING"
   ]
  },
  {
   "cell_type": "code",
   "execution_count": 2,
   "id": "262f4741-1922-4a32-82bb-cc067e8f2969",
   "metadata": {},
   "outputs": [],
   "source": [
    "from model_train import data_split\n",
    "\n",
    "%store -r data_filtered\n",
    "dataframe = data_filtered"
   ]
  },
  {
   "cell_type": "code",
   "execution_count": 3,
   "id": "5b15b9a4-99ea-40bc-99ec-7a6aa8e993d1",
   "metadata": {},
   "outputs": [],
   "source": [
    "X_train, y_train, X_test, y_test = data_split(dataframe)"
   ]
  },
  {
   "cell_type": "markdown",
   "id": "4093b9ab-12e1-4f94-aeca-8c9448c5205e",
   "metadata": {},
   "source": [
    "\n",
    "ADAPTIVE BOOSTING"
   ]
  },
  {
   "cell_type": "code",
   "execution_count": null,
   "id": "a04790bd-b32e-4bbc-ad0e-0da2db9d5799",
   "metadata": {},
   "outputs": [],
   "source": [
    "from sklearn.ensemble import AdaBoostClassifier\n",
    "from ml_models import adaboost_train, adaboost_test"
   ]
  },
  {
   "cell_type": "code",
   "execution_count": 4,
   "id": "1bbd52e3-2481-4057-be0d-c9084badf3aa",
   "metadata": {},
   "outputs": [
    {
     "name": "stdout",
     "output_type": "stream",
     "text": [
      "Creation of result dir not rrequired\n",
      "Training Finished!\n"
     ]
    }
   ],
   "source": [
    "adaboost_train(X_train, y_train)"
   ]
  },
  {
   "cell_type": "code",
   "execution_count": 5,
   "id": "bc2d41aa-6355-4b2e-8b84-5f23995fe84d",
   "metadata": {},
   "outputs": [
    {
     "name": "stdout",
     "output_type": "stream",
     "text": [
      "TRAINING F1 Score 0.8015820824644354\n",
      "ACCURACY 0.7954545454545454\n",
      "TESTING F1 Score 0.7953488372093023\n",
      "PRECISION 0.8136842105263158\n",
      "RECALL 0.8183760683760684\n"
     ]
    }
   ],
   "source": [
    "adaboost_test(X_train, y_train, X_test, y_test)"
   ]
  },
  {
   "cell_type": "markdown",
   "id": "65af466d-d6d5-430d-9a1a-6e5420ac2709",
   "metadata": {},
   "source": [
    "\n",
    "DECISION TREE"
   ]
  },
  {
   "cell_type": "code",
   "execution_count": 6,
   "id": "c6df341e-98a5-4198-a12e-5e094a2b9369",
   "metadata": {},
   "outputs": [],
   "source": [
    "from sklearn.tree import DecisionTreeClassifier\n",
    "from ml_models import decisiontree_train, decisiontree_test"
   ]
  },
  {
   "cell_type": "code",
   "execution_count": 7,
   "id": "6a4e208b-5596-4fbe-9bde-13156a660bd3",
   "metadata": {},
   "outputs": [
    {
     "name": "stdout",
     "output_type": "stream",
     "text": [
      "Training Finished!\n"
     ]
    }
   ],
   "source": [
    "decisiontree_train(X_train, y_train)"
   ]
  },
  {
   "cell_type": "code",
   "execution_count": 9,
   "id": "4ca60acb-1a60-4f2d-bcde-3b9a914ac337",
   "metadata": {},
   "outputs": [
    {
     "name": "stdout",
     "output_type": "stream",
     "text": [
      "TRAINING F1 Score 0.8009559428986673\n",
      "ACCURACY 0.8409090909090909\n",
      "TESTING F1 Score 0.8303030303030303\n",
      "PRECISION 0.8471264367816091\n",
      "RECALL 0.8226495726495726\n"
     ]
    }
   ],
   "source": [
    "decisiontree_test(X_train, y_train, X_test, y_test)"
   ]
  },
  {
   "cell_type": "markdown",
   "id": "dedd70f3-b2cc-4298-889d-7a8903248720",
   "metadata": {},
   "source": [
    "\n",
    "Gaussian Naive Bayes"
   ]
  },
  {
   "cell_type": "code",
   "execution_count": 10,
   "id": "66d599f7-1456-46b6-bef1-263af7579096",
   "metadata": {},
   "outputs": [
    {
     "ename": "ImportError",
     "evalue": "cannot import name 'gaussiannb' from 'ml_models' (/home/user/eeg-classification-using-etc/notebooks/../src/ml_models.py)",
     "output_type": "error",
     "traceback": [
      "\u001b[31m---------------------------------------------------------------------------\u001b[39m",
      "\u001b[31mImportError\u001b[39m                               Traceback (most recent call last)",
      "\u001b[36mCell\u001b[39m\u001b[36m \u001b[39m\u001b[32mIn[10]\u001b[39m\u001b[32m, line 2\u001b[39m\n\u001b[32m      1\u001b[39m \u001b[38;5;28;01mfrom\u001b[39;00m\u001b[38;5;250m \u001b[39m\u001b[34;01msklearn\u001b[39;00m\u001b[34;01m.\u001b[39;00m\u001b[34;01mnaive_bayes\u001b[39;00m\u001b[38;5;250m \u001b[39m\u001b[38;5;28;01mimport\u001b[39;00m GaussianNB\n\u001b[32m----> \u001b[39m\u001b[32m2\u001b[39m \u001b[38;5;28;01mfrom\u001b[39;00m\u001b[38;5;250m \u001b[39m\u001b[34;01mml_models\u001b[39;00m\u001b[38;5;250m \u001b[39m\u001b[38;5;28;01mimport\u001b[39;00m gaussiannb\n",
      "\u001b[31mImportError\u001b[39m: cannot import name 'gaussiannb' from 'ml_models' (/home/user/eeg-classification-using-etc/notebooks/../src/ml_models.py)"
     ]
    }
   ],
   "source": [
    "from sklearn.naive_bayes import GaussianNB\n",
    "from ml_models import gaussiannb"
   ]
  },
  {
   "cell_type": "code",
   "execution_count": null,
   "id": "7f1b6378-9789-4970-a3a8-e14719a8ae04",
   "metadata": {},
   "outputs": [],
   "source": [
    "gaussiannb(X_train, y_train, X_test, y_test)"
   ]
  }
 ],
 "metadata": {
  "kernelspec": {
   "display_name": "Python 3 (ipykernel)",
   "language": "python",
   "name": "python3"
  },
  "language_info": {
   "codemirror_mode": {
    "name": "ipython",
    "version": 3
   },
   "file_extension": ".py",
   "mimetype": "text/x-python",
   "name": "python",
   "nbconvert_exporter": "python",
   "pygments_lexer": "ipython3",
   "version": "3.13.2"
  }
 },
 "nbformat": 4,
 "nbformat_minor": 5
}
