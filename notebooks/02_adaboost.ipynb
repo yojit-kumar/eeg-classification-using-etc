{
 "cells": [
  {
   "cell_type": "code",
   "execution_count": 1,
   "id": "bdb9f44b-c943-4216-aed7-a2abaa710278",
   "metadata": {},
   "outputs": [],
   "source": [
    "import os\n",
    "import sys\n",
    "sys.path.append(\"../src\")\n",
    "import numpy as np\n",
    "\n",
    "from sklearn.model_selection import train_test_split, KFold\n",
    "from sklearn.metrics import accuracy_score, f1_score, precision_score, recall_score\n"
   ]
  },
  {
   "cell_type": "code",
   "execution_count": 2,
   "id": "262f4741-1922-4a32-82bb-cc067e8f2969",
   "metadata": {},
   "outputs": [],
   "source": [
    "from sklearn.ensemble import AdaBoostClassifier\n",
    "from model_train import data_split, adaboost_train, adaboost_test\n",
    "\n",
    "%store -r data_filtered\n",
    "dataframe = data_filtered"
   ]
  },
  {
   "cell_type": "code",
   "execution_count": 3,
   "id": "5b15b9a4-99ea-40bc-99ec-7a6aa8e993d1",
   "metadata": {},
   "outputs": [],
   "source": [
    "X_train, y_train, X_test, y_test = data_split(dataframe)"
   ]
  },
  {
   "cell_type": "code",
   "execution_count": 4,
   "id": "1bbd52e3-2481-4057-be0d-c9084badf3aa",
   "metadata": {},
   "outputs": [
    {
     "name": "stdout",
     "output_type": "stream",
     "text": [
      "Training Finished!\n"
     ]
    }
   ],
   "source": [
    "adaboost_train(X_train, y_train)"
   ]
  },
  {
   "cell_type": "code",
   "execution_count": 5,
   "id": "bc2d41aa-6355-4b2e-8b84-5f23995fe84d",
   "metadata": {},
   "outputs": [
    {
     "name": "stdout",
     "output_type": "stream",
     "text": [
      "TRAINING F1 Score 0.6636720486529486\n",
      "ACCURACY 0.5909090909090909\n",
      "TESTING F1 Score 0.5875\n",
      "PRECISION 0.6428571428571428\n",
      "RECALL 0.6282051282051282\n"
     ]
    }
   ],
   "source": [
    "adaboost_test(X_train, y_train, X_test, y_test)"
   ]
  }
 ],
 "metadata": {
  "kernelspec": {
   "display_name": "Python 3 (ipykernel)",
   "language": "python",
   "name": "python3"
  },
  "language_info": {
   "codemirror_mode": {
    "name": "ipython",
    "version": 3
   },
   "file_extension": ".py",
   "mimetype": "text/x-python",
   "name": "python",
   "nbconvert_exporter": "python",
   "pygments_lexer": "ipython3",
   "version": "3.13.2"
  }
 },
 "nbformat": 4,
 "nbformat_minor": 5
}
