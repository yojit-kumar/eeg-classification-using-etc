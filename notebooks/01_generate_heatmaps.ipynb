{
 "cells": [
  {
   "cell_type": "code",
   "execution_count": null,
   "id": "e6b64f28-0462-4691-b119-04a4bcf86530",
   "metadata": {
    "editable": true,
    "slideshow": {
     "slide_type": ""
    },
    "tags": []
   },
   "outputs": [],
   "source": [
    "import sys\n",
    "sys.path.append(\"../src\")\n",
    "\n",
    "from preprocessing import *\n",
    "from feature_extraction import *\n",
    "from generate_heatmap import *\n",
    "\n",
    "import matplotlib.pyplot as plt\n",
    "import pandas as pd\n",
    "import numpy as np\n",
    "import seaborn as sns\n",
    "\n",
    "%matplotlib inline"
   ]
  },
  {
   "cell_type": "code",
   "execution_count": null,
   "id": "93f11d89-a712-4419-9590-0135c4e08e12",
   "metadata": {},
   "outputs": [],
   "source": [
    "volunteer_ids = [f\"S{n:03d}\" for n in range(1,110)]\n",
    "channel_ids = ['FC5', 'FC3', 'FC1', 'FCz', 'FC2', 'FC4', 'FC6', 'C5', \n",
    "               'C3', 'C1', 'Cz', 'C2', 'C4', 'C6', 'CP5', 'CP3', 'CP1', \n",
    "               'CPz', 'CP2', 'CP4', 'CP6', 'Fp1', 'Fpz', 'Fp2', 'AF7', \n",
    "               'AF3', 'AFz', 'AF4', 'AF8', 'F7', 'F5', 'F3', 'F1', 'Fz', \n",
    "               'F2', 'F4', 'F6', 'F8', 'FT7', 'FT8', 'T7', 'T8', 'T9', \n",
    "               'T10', 'TP7', 'TP8', 'P7', 'P5', 'P3', 'P1', 'Pz', 'P2', \n",
    "               'P4', 'P6', 'P8', 'PO7', 'PO3', 'POz', 'PO4', 'PO8', 'O1', \n",
    "               'Oz', 'O2', 'Iz']\n",
    "root_dir = '../data/files/'\n",
    "result_dir = '../results/tmp/'"
   ]
  },
  {
   "cell_type": "markdown",
   "id": "95ad9108-1b12-49a7-9d1d-73edecdabce3",
   "metadata": {},
   "source": [
    "PLOTTING FOR FILTERED DATA CASE"
   ]
  },
  {
   "cell_type": "code",
   "execution_count": null,
   "id": "c46ab761-46db-4fe3-b2c9-a0bec6579093",
   "metadata": {},
   "outputs": [],
   "source": [
    "results = []\n",
    "for v in volunteer_ids:   \n",
    "    r1, r2 = extract_data(v, root_dir)\n",
    "    r1, r2 = filter_data(r1, r2)\n",
    "\n",
    "    labels = r1.ch_names\n",
    "    label_idx = {label: idx for idx, label in enumerate(labels)}\n",
    "\n",
    "    r1_data = r1.get_data()\n",
    "    r2_data = r2.get_data()\n",
    "\n",
    "    for ch in channel_ids:\n",
    "        idx = label_idx[ch]\n",
    "        signal1 = r1_data[idx,:]\n",
    "        signal2 = r2_data[idx,:]\n",
    "        \n",
    "        etc_1 = etc_func(signal1)\n",
    "        etc_2 = etc_func(signal2)\n",
    "\n",
    "        results.append({\n",
    "            'volunteer': v,\n",
    "            'channel': ch,\n",
    "            'ETC_EyesOpen': etc_1,\n",
    "            'ETC_EyesClosed': etc_2,\n",
    "            })\n",
    "data_filtered = pd.DataFrame(results)\n",
    "%store data_filtered"
   ]
  },
  {
   "cell_type": "code",
   "execution_count": null,
   "id": "81a044d8-9074-4803-9ed9-51b58793d79f",
   "metadata": {},
   "outputs": [],
   "source": [
    "plot_heatmap(data_filtered, result_dir)"
   ]
  },
  {
   "cell_type": "markdown",
   "id": "efdb5a53-df79-4331-b886-1051817ba40d",
   "metadata": {},
   "source": [
    "PLOTTING FOR UNFILTERED CASE"
   ]
  },
  {
   "cell_type": "code",
   "execution_count": null,
   "id": "f4e2f64e-027a-47b6-bbf7-cc6f930d5e3e",
   "metadata": {},
   "outputs": [],
   "source": [
    "results = []\n",
    "for v in volunteer_ids:  \n",
    "    r1, r2 = extract_data(v, root_dir)\n",
    "    \n",
    "    labels = r1.ch_names\n",
    "    label_idx = {label: idx for idx, label in enumerate(labels)}\n",
    " \n",
    "    r1_data = r1.get_data()\n",
    "    r2_data = r2.get_data()\n",
    "\n",
    "    for ch in channel_ids:\n",
    "        idx = label_idx[ch]\n",
    "        signal1 = r1_data[idx,:]\n",
    "        signal2 = r2_data[idx,:]\n",
    "        \n",
    "        etc_1 = etc_func(signal1)\n",
    "        etc_2 = etc_func(signal2)\n",
    "\n",
    "        results.append({\n",
    "            'volunteer': v,\n",
    "            'channel': ch,\n",
    "            'ETC_EyesOpen': etc_1,\n",
    "            'ETC_EyesClosed': etc_2,\n",
    "            })\n",
    "data_unfiltered = pd.DataFrame(results)\n",
    "%store data_unfiltered"
   ]
  },
  {
   "cell_type": "code",
   "execution_count": null,
   "id": "7f8729a4-d55d-4a73-a3a5-5e5b6e2b17fc",
   "metadata": {},
   "outputs": [],
   "source": [
    "plot_heatmap(data_unfiltered, result_dir)"
   ]
  },
  {
   "cell_type": "code",
   "execution_count": null,
   "id": "dc59865e-27ef-414c-a0df-34aa7d5112f7",
   "metadata": {},
   "outputs": [],
   "source": []
  }
 ],
 "metadata": {
  "kernelspec": {
   "display_name": "Python 3 (ipykernel)",
   "language": "python",
   "name": "python3"
  },
  "language_info": {
   "codemirror_mode": {
    "name": "ipython",
    "version": 3
   },
   "file_extension": ".py",
   "mimetype": "text/x-python",
   "name": "python",
   "nbconvert_exporter": "python",
   "pygments_lexer": "ipython3",
   "version": "3.13.2"
  }
 },
 "nbformat": 4,
 "nbformat_minor": 5
}
