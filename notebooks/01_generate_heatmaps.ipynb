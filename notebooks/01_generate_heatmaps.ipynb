{
 "cells": [
  {
   "cell_type": "code",
   "execution_count": null,
   "id": "e6b64f28-0462-4691-b119-04a4bcf86530",
   "metadata": {
    "editable": true,
    "slideshow": {
     "slide_type": ""
    },
    "tags": []
   },
   "outputs": [],
   "source": [
    "import sys\n",
    "sys.path.append(\"../src\")\n",
    "\n",
    "from generate_heatmap import *\n",
    "\n",
    "import matplotlib.pyplot as plt\n",
    "import pandas as pd\n",
    "import numpy as np\n",
    "import seaborn as sns\n",
    "\n",
    "%matplotlib inline\n",
    "\n",
    "result_dir = '../results/figures/'"
   ]
  },
  {
   "cell_type": "markdown",
   "id": "95ad9108-1b12-49a7-9d1d-73edecdabce3",
   "metadata": {},
   "source": [
    "PLOTTING FOR UNFILTERED DATA CASE"
   ]
  },
  {
   "cell_type": "code",
   "execution_count": null,
   "id": "b1ed3041-927c-4c31-b6e3-9f0b65f2f2cf",
   "metadata": {},
   "outputs": [],
   "source": [
    "%store -r data_unfiltered"
   ]
  },
  {
   "cell_type": "code",
   "execution_count": null,
   "id": "81a044d8-9074-4803-9ed9-51b58793d79f",
   "metadata": {},
   "outputs": [],
   "source": [
    "plot_heatmap(data_unfiltered, result_dir)"
   ]
  },
  {
   "cell_type": "markdown",
   "id": "efdb5a53-df79-4331-b886-1051817ba40d",
   "metadata": {},
   "source": [
    "PLOTTING FOR FILTERED CASE"
   ]
  },
  {
   "cell_type": "code",
   "execution_count": null,
   "id": "7d885f21-5c59-49f5-8acd-1e4c524dd93b",
   "metadata": {},
   "outputs": [],
   "source": [
    "%store -r data_filtered"
   ]
  },
  {
   "cell_type": "code",
   "execution_count": null,
   "id": "7f8729a4-d55d-4a73-a3a5-5e5b6e2b17fc",
   "metadata": {},
   "outputs": [],
   "source": [
    "plot_heatmap(data_filtered, result_dir)"
   ]
  },
  {
   "cell_type": "code",
   "execution_count": null,
   "id": "dc59865e-27ef-414c-a0df-34aa7d5112f7",
   "metadata": {},
   "outputs": [],
   "source": []
  }
 ],
 "metadata": {
  "kernelspec": {
   "display_name": "Python 3 (ipykernel)",
   "language": "python",
   "name": "python3"
  },
  "language_info": {
   "codemirror_mode": {
    "name": "ipython",
    "version": 3
   },
   "file_extension": ".py",
   "mimetype": "text/x-python",
   "name": "python",
   "nbconvert_exporter": "python",
   "pygments_lexer": "ipython3",
   "version": "3.13.2"
  }
 },
 "nbformat": 4,
 "nbformat_minor": 5
}
